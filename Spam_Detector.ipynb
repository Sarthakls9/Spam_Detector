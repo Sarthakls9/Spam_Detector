{
  "nbformat": 4,
  "nbformat_minor": 0,
  "metadata": {
    "colab": {
      "provenance": []
    },
    "kernelspec": {
      "name": "python3",
      "display_name": "Python 3"
    },
    "language_info": {
      "name": "python"
    }
  },
  "cells": [
    {
      "cell_type": "markdown",
      "source": [
        "# **Importing The Libraries**"
      ],
      "metadata": {
        "id": "y7CvuBI_0Ii8"
      }
    },
    {
      "cell_type": "code",
      "execution_count": null,
      "metadata": {
        "id": "y_L7O4iNzf55"
      },
      "outputs": [],
      "source": [
        "import numpy as np\n",
        "import pandas as pd\n",
        "import matplotlib.pyplot as plt"
      ]
    },
    {
      "cell_type": "markdown",
      "source": [
        "# **Importing the Dataset**"
      ],
      "metadata": {
        "id": "zhksipI_1T47"
      }
    },
    {
      "cell_type": "code",
      "source": [
        "dataset = pd.read_csv('spam.csv', encoding='ISO-8859-1')\n",
        "print(dataset)"
      ],
      "metadata": {
        "colab": {
          "base_uri": "https://localhost:8080/"
        },
        "id": "ZagAR_CO1a7q",
        "outputId": "ac2f756b-2d81-4291-83e4-e84c51ed10da"
      },
      "execution_count": null,
      "outputs": [
        {
          "output_type": "stream",
          "name": "stdout",
          "text": [
            "        v1                                                 v2 Unnamed: 2  \\\n",
            "0      ham  Go until jurong point, crazy.. Available only ...        NaN   \n",
            "1      ham                      Ok lar... Joking wif u oni...        NaN   \n",
            "2     spam  Free entry in 2 a wkly comp to win FA Cup fina...        NaN   \n",
            "3      ham  U dun say so early hor... U c already then say...        NaN   \n",
            "4      ham  Nah I don't think he goes to usf, he lives aro...        NaN   \n",
            "...    ...                                                ...        ...   \n",
            "5567  spam  This is the 2nd time we have tried 2 contact u...        NaN   \n",
            "5568   ham              Will Ì_ b going to esplanade fr home?        NaN   \n",
            "5569   ham  Pity, * was in mood for that. So...any other s...        NaN   \n",
            "5570   ham  The guy did some bitching but I acted like i'd...        NaN   \n",
            "5571   ham                         Rofl. Its true to its name        NaN   \n",
            "\n",
            "     Unnamed: 3 Unnamed: 4  \n",
            "0           NaN        NaN  \n",
            "1           NaN        NaN  \n",
            "2           NaN        NaN  \n",
            "3           NaN        NaN  \n",
            "4           NaN        NaN  \n",
            "...         ...        ...  \n",
            "5567        NaN        NaN  \n",
            "5568        NaN        NaN  \n",
            "5569        NaN        NaN  \n",
            "5570        NaN        NaN  \n",
            "5571        NaN        NaN  \n",
            "\n",
            "[5572 rows x 5 columns]\n"
          ]
        }
      ]
    },
    {
      "cell_type": "code",
      "source": [
        "dataset.info()"
      ],
      "metadata": {
        "colab": {
          "base_uri": "https://localhost:8080/"
        },
        "id": "d5mZzNyM3qqb",
        "outputId": "24e13e8d-5031-4839-b8f7-67224eeace04"
      },
      "execution_count": null,
      "outputs": [
        {
          "output_type": "stream",
          "name": "stdout",
          "text": [
            "<class 'pandas.core.frame.DataFrame'>\n",
            "RangeIndex: 5572 entries, 0 to 5571\n",
            "Data columns (total 5 columns):\n",
            " #   Column      Non-Null Count  Dtype \n",
            "---  ------      --------------  ----- \n",
            " 0   v1          5572 non-null   object\n",
            " 1   v2          5572 non-null   object\n",
            " 2   Unnamed: 2  50 non-null     object\n",
            " 3   Unnamed: 3  12 non-null     object\n",
            " 4   Unnamed: 4  6 non-null      object\n",
            "dtypes: object(5)\n",
            "memory usage: 217.8+ KB\n"
          ]
        }
      ]
    },
    {
      "cell_type": "markdown",
      "source": [
        "# **Refining Data**"
      ],
      "metadata": {
        "id": "8q4bwKiQ4hum"
      }
    },
    {
      "cell_type": "code",
      "source": [
        "dataset.drop(columns=['Unnamed: 2', 'Unnamed: 3', 'Unnamed: 4'], inplace=True)\n",
        "dataset.rename(columns={'v1':'Spam/Ham', 'v2':'Messages'}, inplace=True)\n",
        "dataset = dataset.where((pd.notnull(dataset)), ' ')"
      ],
      "metadata": {
        "id": "1CJ2H7wB4nfU"
      },
      "execution_count": null,
      "outputs": []
    },
    {
      "cell_type": "code",
      "source": [
        "print(dataset)\n",
        "dataset.info()"
      ],
      "metadata": {
        "colab": {
          "base_uri": "https://localhost:8080/"
        },
        "id": "OXF_aXCX_6lQ",
        "outputId": "ec58e212-a692-4abe-e1b3-9e727cb75c9e"
      },
      "execution_count": null,
      "outputs": [
        {
          "output_type": "stream",
          "name": "stdout",
          "text": [
            "     Spam/Ham                                           Messages\n",
            "0         ham  Go until jurong point, crazy.. Available only ...\n",
            "1         ham                      Ok lar... Joking wif u oni...\n",
            "2        spam  Free entry in 2 a wkly comp to win FA Cup fina...\n",
            "3         ham  U dun say so early hor... U c already then say...\n",
            "4         ham  Nah I don't think he goes to usf, he lives aro...\n",
            "...       ...                                                ...\n",
            "5567     spam  This is the 2nd time we have tried 2 contact u...\n",
            "5568      ham              Will Ì_ b going to esplanade fr home?\n",
            "5569      ham  Pity, * was in mood for that. So...any other s...\n",
            "5570      ham  The guy did some bitching but I acted like i'd...\n",
            "5571      ham                         Rofl. Its true to its name\n",
            "\n",
            "[5572 rows x 2 columns]\n",
            "<class 'pandas.core.frame.DataFrame'>\n",
            "RangeIndex: 5572 entries, 0 to 5571\n",
            "Data columns (total 2 columns):\n",
            " #   Column    Non-Null Count  Dtype \n",
            "---  ------    --------------  ----- \n",
            " 0   Spam/Ham  5572 non-null   object\n",
            " 1   Messages  5572 non-null   object\n",
            "dtypes: object(2)\n",
            "memory usage: 87.2+ KB\n"
          ]
        }
      ]
    },
    {
      "cell_type": "markdown",
      "source": [
        "# **Converting Spam/Ham to Numerical Data**"
      ],
      "metadata": {
        "id": "qlSxSHakAjR5"
      }
    },
    {
      "cell_type": "code",
      "source": [
        "dataset.loc[dataset['Spam/Ham'] == 'spam', 'Spam/Ham'] = 1\n",
        "dataset.loc[dataset['Spam/Ham'] == 'ham', 'Spam/Ham'] = 0"
      ],
      "metadata": {
        "id": "JWJJSncrAszD"
      },
      "execution_count": null,
      "outputs": []
    },
    {
      "cell_type": "code",
      "source": [
        "print(dataset)"
      ],
      "metadata": {
        "colab": {
          "base_uri": "https://localhost:8080/"
        },
        "id": "XoeLPbaEB4Fq",
        "outputId": "b8d0b034-9485-437e-b527-8c84f2f16042"
      },
      "execution_count": null,
      "outputs": [
        {
          "output_type": "stream",
          "name": "stdout",
          "text": [
            "     Spam/Ham                                           Messages\n",
            "0           0  Go until jurong point, crazy.. Available only ...\n",
            "1           0                      Ok lar... Joking wif u oni...\n",
            "2           1  Free entry in 2 a wkly comp to win FA Cup fina...\n",
            "3           0  U dun say so early hor... U c already then say...\n",
            "4           0  Nah I don't think he goes to usf, he lives aro...\n",
            "...       ...                                                ...\n",
            "5567        1  This is the 2nd time we have tried 2 contact u...\n",
            "5568        0              Will Ì_ b going to esplanade fr home?\n",
            "5569        0  Pity, * was in mood for that. So...any other s...\n",
            "5570        0  The guy did some bitching but I acted like i'd...\n",
            "5571        0                         Rofl. Its true to its name\n",
            "\n",
            "[5572 rows x 2 columns]\n"
          ]
        }
      ]
    },
    {
      "cell_type": "markdown",
      "source": [
        "# **Seperating Dataset**"
      ],
      "metadata": {
        "id": "2lMsEGETCLa5"
      }
    },
    {
      "cell_type": "code",
      "source": [
        "X = dataset['Messages']\n",
        "Y = dataset['Spam/Ham']"
      ],
      "metadata": {
        "id": "4XC_vSzICSf_"
      },
      "execution_count": null,
      "outputs": []
    },
    {
      "cell_type": "code",
      "source": [
        "print(X)"
      ],
      "metadata": {
        "id": "EvO70QsOC8fe",
        "colab": {
          "base_uri": "https://localhost:8080/"
        },
        "outputId": "6909fd00-bbed-4b1c-a76c-390cf4d29b2e"
      },
      "execution_count": null,
      "outputs": [
        {
          "output_type": "stream",
          "name": "stdout",
          "text": [
            "0       Go until jurong point, crazy.. Available only ...\n",
            "1                           Ok lar... Joking wif u oni...\n",
            "2       Free entry in 2 a wkly comp to win FA Cup fina...\n",
            "3       U dun say so early hor... U c already then say...\n",
            "4       Nah I don't think he goes to usf, he lives aro...\n",
            "                              ...                        \n",
            "5567    This is the 2nd time we have tried 2 contact u...\n",
            "5568                Will Ì_ b going to esplanade fr home?\n",
            "5569    Pity, * was in mood for that. So...any other s...\n",
            "5570    The guy did some bitching but I acted like i'd...\n",
            "5571                           Rofl. Its true to its name\n",
            "Name: Messages, Length: 5572, dtype: object\n"
          ]
        }
      ]
    },
    {
      "cell_type": "code",
      "source": [
        "print(Y)"
      ],
      "metadata": {
        "id": "htFjun9FC-NX",
        "colab": {
          "base_uri": "https://localhost:8080/"
        },
        "outputId": "db6f8c6c-fe2e-44bd-c4c9-a9d6fd9318e0"
      },
      "execution_count": null,
      "outputs": [
        {
          "output_type": "stream",
          "name": "stdout",
          "text": [
            "0       0\n",
            "1       0\n",
            "2       1\n",
            "3       0\n",
            "4       0\n",
            "       ..\n",
            "5567    1\n",
            "5568    0\n",
            "5569    0\n",
            "5570    0\n",
            "5571    0\n",
            "Name: Spam/Ham, Length: 5572, dtype: object\n"
          ]
        }
      ]
    },
    {
      "cell_type": "code",
      "source": [
        "from sklearn.model_selection import train_test_split"
      ],
      "metadata": {
        "id": "GZzbSSztDBjs"
      },
      "execution_count": null,
      "outputs": []
    },
    {
      "cell_type": "code",
      "source": [
        "X_train, X_test, Y_train, Y_test = train_test_split(X, Y, test_size=0.2, random_state=5)"
      ],
      "metadata": {
        "id": "_MsOBqnhDfPY"
      },
      "execution_count": null,
      "outputs": []
    },
    {
      "cell_type": "code",
      "source": [
        "print(X.shape)\n",
        "print(X_train.shape)\n",
        "print(X_test.shape)"
      ],
      "metadata": {
        "colab": {
          "base_uri": "https://localhost:8080/"
        },
        "id": "Z4eFsXQ8jJhd",
        "outputId": "8d670035-6a25-4741-f7ea-fdb9006fea0b"
      },
      "execution_count": null,
      "outputs": [
        {
          "output_type": "stream",
          "name": "stdout",
          "text": [
            "(5572,)\n",
            "(4457,)\n",
            "(1115,)\n"
          ]
        }
      ]
    },
    {
      "cell_type": "markdown",
      "source": [
        "# **Convert messages into numerical data**"
      ],
      "metadata": {
        "id": "oCl07idEC6ic"
      }
    },
    {
      "cell_type": "code",
      "source": [
        "from sklearn.feature_extraction.text import TfidfVectorizer"
      ],
      "metadata": {
        "id": "QgiauGscDBeu"
      },
      "execution_count": null,
      "outputs": []
    },
    {
      "cell_type": "code",
      "source": [
        "msg_extract = TfidfVectorizer(min_df=1, stop_words=\"english\", lowercase=True)\n",
        "train_features = msg_extract.fit_transform(X_train)\n",
        "test_features = msg_extract.transform(X_test)"
      ],
      "metadata": {
        "id": "42YHM9JJDJed"
      },
      "execution_count": null,
      "outputs": []
    },
    {
      "cell_type": "code",
      "source": [
        "Y_train = Y_train.astype(\"int\")\n",
        "Y_test = Y_test.astype(\"int\")"
      ],
      "metadata": {
        "id": "pdfv2OTAF3HR"
      },
      "execution_count": null,
      "outputs": []
    },
    {
      "cell_type": "code",
      "source": [
        "print(X_train)"
      ],
      "metadata": {
        "colab": {
          "base_uri": "https://localhost:8080/"
        },
        "id": "LuP8iCg6GIRN",
        "outputId": "aed3f55d-6cd9-4b2a-e0a2-4700bb70aa39"
      },
      "execution_count": null,
      "outputs": [
        {
          "output_type": "stream",
          "name": "stdout",
          "text": [
            "1658    RGENT! This is the 2nd attempt to contact U!U ...\n",
            "1509    When u love someone Dont make them to love u a...\n",
            "3266                    Ok then i come n pick u at engin?\n",
            "5199           Ugh my leg hurts. Musta overdid it on mon.\n",
            "3217      Don know:)this week i'm going to tirunelvai da.\n",
            "                              ...                        \n",
            "3046    Ok. Not much to do here though. H&M Friday, ca...\n",
            "1725    You know there is. I shall speak to you in  &l...\n",
            "4079    Sir, good morning. Hope you had a good weekend...\n",
            "2254                              Ok. Me watching tv too.\n",
            "2915      What time should I tell my friend to be around?\n",
            "Name: Messages, Length: 4457, dtype: object\n"
          ]
        }
      ]
    },
    {
      "cell_type": "code",
      "source": [
        "print(train_features)"
      ],
      "metadata": {
        "colab": {
          "base_uri": "https://localhost:8080/"
        },
        "id": "OS8AkHfbGLN1",
        "outputId": "7818c9af-ae29-47b8-eee9-2b98b7a06e2d"
      },
      "execution_count": null,
      "outputs": [
        {
          "output_type": "stream",
          "name": "stdout",
          "text": [
            "  (0, 547)\t0.19152841010524888\n",
            "  (0, 4294)\t0.28644338819823545\n",
            "  (0, 4441)\t0.3004300201964308\n",
            "  (0, 323)\t0.20701507316885265\n",
            "  (0, 1582)\t0.3004300201964308\n",
            "  (0, 2060)\t0.28644338819823545\n",
            "  (0, 17)\t0.3004300201964308\n",
            "  (0, 1170)\t0.235861682013409\n",
            "  (0, 255)\t0.3004300201964308\n",
            "  (0, 299)\t0.3004300201964308\n",
            "  (0, 7385)\t0.17495047100609937\n",
            "  (0, 1950)\t0.18804107135562415\n",
            "  (0, 1121)\t0.22100170516704798\n",
            "  (0, 419)\t0.21064951354406\n",
            "  (0, 5654)\t0.3004300201964308\n",
            "  (1, 4677)\t0.39845583282426406\n",
            "  (1, 3193)\t0.2591671916327502\n",
            "  (1, 4124)\t0.3296434324793044\n",
            "  (1, 7208)\t0.19855109683473132\n",
            "  (1, 4221)\t0.23143613226832413\n",
            "  (1, 2368)\t0.4417441422204556\n",
            "  (1, 4123)\t0.6142291225048643\n",
            "  (2, 2542)\t0.725064435052481\n",
            "  (2, 5067)\t0.46348688962377765\n",
            "  (2, 1877)\t0.3715292831116183\n",
            "  :\t:\n",
            "  (4454, 2748)\t0.2300309211785976\n",
            "  (4454, 776)\t0.19922677591108967\n",
            "  (4454, 3414)\t0.22227798914184893\n",
            "  (4454, 3983)\t0.16274117830861917\n",
            "  (4454, 4482)\t0.1632428077377904\n",
            "  (4454, 7269)\t0.1907605281605737\n",
            "  (4454, 5987)\t0.22591154045353568\n",
            "  (4454, 5407)\t0.18618184073523542\n",
            "  (4454, 3324)\t0.1733208627542496\n",
            "  (4454, 6056)\t0.18726439146436624\n",
            "  (4454, 2141)\t0.13126354887602448\n",
            "  (4454, 3111)\t0.3875490511487887\n",
            "  (4454, 3408)\t0.15056628190671192\n",
            "  (4454, 5761)\t0.1589972528893274\n",
            "  (4454, 3189)\t0.12676536814942727\n",
            "  (4454, 4146)\t0.12676536814942727\n",
            "  (4454, 2109)\t0.1961392482370807\n",
            "  (4454, 3859)\t0.12676536814942727\n",
            "  (4454, 4221)\t0.15605697862219584\n",
            "  (4455, 6929)\t0.6412069664674139\n",
            "  (4455, 7232)\t0.6412069664674139\n",
            "  (4455, 4798)\t0.4215533801398268\n",
            "  (4456, 2937)\t0.668753793591659\n",
            "  (4456, 6619)\t0.5489857755337847\n",
            "  (4456, 6748)\t0.5013810744516926\n"
          ]
        }
      ]
    },
    {
      "cell_type": "markdown",
      "source": [
        "# **Model Building(LOGISTIC REGRESSION)**"
      ],
      "metadata": {
        "id": "FrzkQBQlGopl"
      }
    },
    {
      "cell_type": "code",
      "source": [
        "from sklearn.linear_model import LogisticRegression"
      ],
      "metadata": {
        "id": "tinxtPRIHPUP"
      },
      "execution_count": null,
      "outputs": []
    },
    {
      "cell_type": "code",
      "source": [
        "regressor = LogisticRegression()"
      ],
      "metadata": {
        "id": "4LQwgOktIBSV"
      },
      "execution_count": null,
      "outputs": []
    },
    {
      "cell_type": "code",
      "source": [
        "regressor.fit(train_features, Y_train)"
      ],
      "metadata": {
        "colab": {
          "base_uri": "https://localhost:8080/",
          "height": 74
        },
        "id": "GaZGFX6WIdxB",
        "outputId": "2a1d9b66-344c-4cf9-fe6d-ecbf6aeaad65"
      },
      "execution_count": null,
      "outputs": [
        {
          "output_type": "execute_result",
          "data": {
            "text/plain": [
              "LogisticRegression()"
            ],
            "text/html": [
              "<style>#sk-container-id-1 {color: black;background-color: white;}#sk-container-id-1 pre{padding: 0;}#sk-container-id-1 div.sk-toggleable {background-color: white;}#sk-container-id-1 label.sk-toggleable__label {cursor: pointer;display: block;width: 100%;margin-bottom: 0;padding: 0.3em;box-sizing: border-box;text-align: center;}#sk-container-id-1 label.sk-toggleable__label-arrow:before {content: \"▸\";float: left;margin-right: 0.25em;color: #696969;}#sk-container-id-1 label.sk-toggleable__label-arrow:hover:before {color: black;}#sk-container-id-1 div.sk-estimator:hover label.sk-toggleable__label-arrow:before {color: black;}#sk-container-id-1 div.sk-toggleable__content {max-height: 0;max-width: 0;overflow: hidden;text-align: left;background-color: #f0f8ff;}#sk-container-id-1 div.sk-toggleable__content pre {margin: 0.2em;color: black;border-radius: 0.25em;background-color: #f0f8ff;}#sk-container-id-1 input.sk-toggleable__control:checked~div.sk-toggleable__content {max-height: 200px;max-width: 100%;overflow: auto;}#sk-container-id-1 input.sk-toggleable__control:checked~label.sk-toggleable__label-arrow:before {content: \"▾\";}#sk-container-id-1 div.sk-estimator input.sk-toggleable__control:checked~label.sk-toggleable__label {background-color: #d4ebff;}#sk-container-id-1 div.sk-label input.sk-toggleable__control:checked~label.sk-toggleable__label {background-color: #d4ebff;}#sk-container-id-1 input.sk-hidden--visually {border: 0;clip: rect(1px 1px 1px 1px);clip: rect(1px, 1px, 1px, 1px);height: 1px;margin: -1px;overflow: hidden;padding: 0;position: absolute;width: 1px;}#sk-container-id-1 div.sk-estimator {font-family: monospace;background-color: #f0f8ff;border: 1px dotted black;border-radius: 0.25em;box-sizing: border-box;margin-bottom: 0.5em;}#sk-container-id-1 div.sk-estimator:hover {background-color: #d4ebff;}#sk-container-id-1 div.sk-parallel-item::after {content: \"\";width: 100%;border-bottom: 1px solid gray;flex-grow: 1;}#sk-container-id-1 div.sk-label:hover label.sk-toggleable__label {background-color: #d4ebff;}#sk-container-id-1 div.sk-serial::before {content: \"\";position: absolute;border-left: 1px solid gray;box-sizing: border-box;top: 0;bottom: 0;left: 50%;z-index: 0;}#sk-container-id-1 div.sk-serial {display: flex;flex-direction: column;align-items: center;background-color: white;padding-right: 0.2em;padding-left: 0.2em;position: relative;}#sk-container-id-1 div.sk-item {position: relative;z-index: 1;}#sk-container-id-1 div.sk-parallel {display: flex;align-items: stretch;justify-content: center;background-color: white;position: relative;}#sk-container-id-1 div.sk-item::before, #sk-container-id-1 div.sk-parallel-item::before {content: \"\";position: absolute;border-left: 1px solid gray;box-sizing: border-box;top: 0;bottom: 0;left: 50%;z-index: -1;}#sk-container-id-1 div.sk-parallel-item {display: flex;flex-direction: column;z-index: 1;position: relative;background-color: white;}#sk-container-id-1 div.sk-parallel-item:first-child::after {align-self: flex-end;width: 50%;}#sk-container-id-1 div.sk-parallel-item:last-child::after {align-self: flex-start;width: 50%;}#sk-container-id-1 div.sk-parallel-item:only-child::after {width: 0;}#sk-container-id-1 div.sk-dashed-wrapped {border: 1px dashed gray;margin: 0 0.4em 0.5em 0.4em;box-sizing: border-box;padding-bottom: 0.4em;background-color: white;}#sk-container-id-1 div.sk-label label {font-family: monospace;font-weight: bold;display: inline-block;line-height: 1.2em;}#sk-container-id-1 div.sk-label-container {text-align: center;}#sk-container-id-1 div.sk-container {/* jupyter's `normalize.less` sets `[hidden] { display: none; }` but bootstrap.min.css set `[hidden] { display: none !important; }` so we also need the `!important` here to be able to override the default hidden behavior on the sphinx rendered scikit-learn.org. See: https://github.com/scikit-learn/scikit-learn/issues/21755 */display: inline-block !important;position: relative;}#sk-container-id-1 div.sk-text-repr-fallback {display: none;}</style><div id=\"sk-container-id-1\" class=\"sk-top-container\"><div class=\"sk-text-repr-fallback\"><pre>LogisticRegression()</pre><b>In a Jupyter environment, please rerun this cell to show the HTML representation or trust the notebook. <br />On GitHub, the HTML representation is unable to render, please try loading this page with nbviewer.org.</b></div><div class=\"sk-container\" hidden><div class=\"sk-item\"><div class=\"sk-estimator sk-toggleable\"><input class=\"sk-toggleable__control sk-hidden--visually\" id=\"sk-estimator-id-1\" type=\"checkbox\" checked><label for=\"sk-estimator-id-1\" class=\"sk-toggleable__label sk-toggleable__label-arrow\">LogisticRegression</label><div class=\"sk-toggleable__content\"><pre>LogisticRegression()</pre></div></div></div></div></div>"
            ]
          },
          "metadata": {},
          "execution_count": 21
        }
      ]
    },
    {
      "cell_type": "markdown",
      "source": [
        "# **Training Data Prediction and Accuracy**"
      ],
      "metadata": {
        "id": "BhFhJQPTJkit"
      }
    },
    {
      "cell_type": "code",
      "source": [
        "from sklearn.metrics import accuracy_score"
      ],
      "metadata": {
        "id": "y6NVfV1pKgW6"
      },
      "execution_count": null,
      "outputs": []
    },
    {
      "cell_type": "code",
      "source": [
        "train_pred = regressor.predict(train_features)\n",
        "train_acc = accuracy_score(Y_train, train_pred)"
      ],
      "metadata": {
        "id": "11uHjmEZJrkQ"
      },
      "execution_count": null,
      "outputs": []
    },
    {
      "cell_type": "code",
      "source": [
        "print(\"Accuracy: \", train_acc)"
      ],
      "metadata": {
        "colab": {
          "base_uri": "https://localhost:8080/"
        },
        "id": "pt62ao58K44M",
        "outputId": "2c6a8035-2bce-4c59-97c5-5939e94ded83"
      },
      "execution_count": null,
      "outputs": [
        {
          "output_type": "stream",
          "name": "stdout",
          "text": [
            "Accuracy:  0.9685887368184878\n"
          ]
        }
      ]
    },
    {
      "cell_type": "markdown",
      "source": [
        "# **Test data Prediction and accuracy**"
      ],
      "metadata": {
        "id": "b84ytVdELJCg"
      }
    },
    {
      "cell_type": "code",
      "source": [
        "test_pred = regressor.predict(test_features)\n",
        "test_acc = accuracy_score(Y_test, test_pred)"
      ],
      "metadata": {
        "id": "tHc57nLVLRI2"
      },
      "execution_count": null,
      "outputs": []
    },
    {
      "cell_type": "code",
      "source": [
        "print(\"Accuracy: \", test_acc)"
      ],
      "metadata": {
        "colab": {
          "base_uri": "https://localhost:8080/"
        },
        "id": "tPBQqiTpMMIn",
        "outputId": "64e3bc27-f9f3-47a9-f4b0-43e1616ea18f"
      },
      "execution_count": null,
      "outputs": [
        {
          "output_type": "stream",
          "name": "stdout",
          "text": [
            "Accuracy:  0.9659192825112107\n"
          ]
        }
      ]
    },
    {
      "cell_type": "markdown",
      "source": [
        "# **Data Visualization**"
      ],
      "metadata": {
        "id": "PyeKyDR2hQ-1"
      }
    },
    {
      "cell_type": "code",
      "source": [
        "from sklearn.metrics import confusion_matrix\n",
        "import seaborn as sns"
      ],
      "metadata": {
        "id": "gkBw6Ce2hWED"
      },
      "execution_count": null,
      "outputs": []
    },
    {
      "cell_type": "code",
      "source": [
        "spam_count = dataset[dataset['Spam/Ham'] == 1].shape[0]\n",
        "ham_count = dataset[dataset['Spam/Ham'] == 0].shape[0]\n",
        "\n",
        "plt.bar(['Spam', 'Ham'], [spam_count, ham_count])\n",
        "plt.xlabel('Email Type')\n",
        "plt.ylabel('Count')\n",
        "plt.title('Distribution of Spam and Ham Emails')\n",
        "plt.show()"
      ],
      "metadata": {
        "colab": {
          "base_uri": "https://localhost:8080/",
          "height": 472
        },
        "id": "fvyPN70TiVp3",
        "outputId": "5e87d5d9-c922-4ee6-d231-6902a97be2c1"
      },
      "execution_count": null,
      "outputs": [
        {
          "output_type": "display_data",
          "data": {
            "text/plain": [
              "<Figure size 640x480 with 1 Axes>"
            ],
            "image/png": "[encoded data removed]"
          },
          "metadata": {}
        }
      ]
    },
    {
      "cell_type": "code",
      "source": [
        "cmat = confusion_matrix(Y_test, test_pred)\n",
        "\n",
        "plt.figure(figsize=(6, 4))\n",
        "sns.heatmap(cmat, annot=True, fmt=\"d\", cmap='OrRd', cbar=False)\n",
        "plt.xlabel('Predicted')\n",
        "plt.ylabel('True')\n",
        "plt.title('Confusion Matrix')\n",
        "plt.show()"
      ],
      "metadata": {
        "colab": {
          "base_uri": "https://localhost:8080/",
          "height": 410
        },
        "id": "mMol09D1N6re",
        "outputId": "a70b13f1-33ad-4f28-d219-568db89718cf"
      },
      "execution_count": null,
      "outputs": [
        {
          "output_type": "display_data",
          "data": {
            "text/plain": [
              "<Figure size 600x400 with 1 Axes>"
            ],
            "image/png": "[encoded data removed]"
          },
          "metadata": {}
        }
      ]
    },
    {
      "cell_type": "markdown",
      "source": [
        "# **Testing the Predictions**"
      ],
      "metadata": {
        "id": "HYAMKr7GQtmS"
      }
    },
    {
      "cell_type": "code",
      "source": [
        "input_your_mail = [\"Congratulations! You have won a free vacation to an USA and Canada. Click the link to claim your prize now!\"]\n",
        "input_data_features = msg_extract.transform(input_your_mail)\n",
        "prediction = regressor.predict(input_data_features)\n",
        "print(prediction)\n",
        "\n",
        "if (prediction)[0] == 0:\n",
        "  print(\"Ham Mail\")\n",
        "else:\n",
        "  print(\"Spam Mail\")"
      ],
      "metadata": {
        "colab": {
          "base_uri": "https://localhost:8080/"
        },
        "id": "5bKjs9DkQxbX",
        "outputId": "e08b9a0b-f4c2-46f7-9df7-11c571df0855"
      },
      "execution_count": null,
      "outputs": [
        {
          "output_type": "stream",
          "name": "stdout",
          "text": [
            "[1]\n",
            "Spam Mail\n"
          ]
        }
      ]
    }
  ]
}